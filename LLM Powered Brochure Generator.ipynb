{
 "cells": [
  {
   "cell_type": "markdown",
   "id": "dabfd8be-baa6-4419-88f1-44c7382f8a1d",
   "metadata": {},
   "source": [
    "# LLM Powered Brochure Generator\n",
    "This script scrapes the contents of a webpage, extracts relevant links, and uses OpenAI's GPT model to generate a short brochure about the company based on the webpage contents. \n"
   ]
  },
  {
   "cell_type": "code",
   "execution_count": 112,
   "id": "aa5c21a5-b910-42b1-880f-b88b399bea97",
   "metadata": {},
   "outputs": [],
   "source": [
    "# Importing the necessary libraries\n",
    "import os\n",
    "import requests\n",
    "import json\n",
    "from typing import List\n",
    "from dotenv import load_dotenv\n",
    "from bs4 import BeautifulSoup\n",
    "from IPython.display import Markdown, display, update_display\n",
    "from openai import OpenAI"
   ]
  },
  {
   "cell_type": "code",
   "execution_count": 65,
   "id": "96366ae4-97ed-4fcd-bfee-43172521fda4",
   "metadata": {},
   "outputs": [],
   "source": [
    "load_dotenv(override=True)\n",
    "api_key = os.getenv('OPENAI_API_KEY')\n",
    "openai=OpenAI()"
   ]
  },
  {
   "cell_type": "code",
   "execution_count": 104,
   "id": "0ab4c4d6-e700-498a-81bb-538b46d87051",
   "metadata": {},
   "outputs": [],
   "source": [
    "class Website:\n",
    "    \"\"\"\n",
    "    Website class is responsible for extracting the title and textual contents from a given URL.\n",
    "    It also retrieves all the links on the page and filters out any irrelevant links like images or scripts.\n",
    "    \"\"\"\n",
    "    def __init__(self, url):\n",
    "        self.url = url\n",
    "        webresponse = requests.get(url)\n",
    "        self.body = webresponse.content\n",
    "        soup = BeautifulSoup(self.body, 'html.parser')\n",
    "        self.title = soup.title.string if soup.title else \"Title Not Found\"\n",
    "        self.text=\" \"\n",
    "        if soup.body:\n",
    "            for irrelevant in soup.body([\"script\", \"style\", \"img\", \"input\"]):\n",
    "                irrelevant.decompose()\n",
    "                self.text = soup.body.get_text(separator=\"\\n\", strip=True)\n",
    "        links = [link.get('href') for link in soup.find_all('a')] #Finding all anchor tags\n",
    "        self.links = [link for link in links if link]\n",
    "\n",
    "    def get_contents(self):\n",
    "        return f\"Webpage Title:\\n{self.title}\\nWebpage Contents:\\n{self.text}\\n\\n\"\n",
    "        "
   ]
  },
  {
   "cell_type": "code",
   "execution_count": 67,
   "id": "ad9c5b07-4a74-4341-b459-d2bc12e541bb",
   "metadata": {},
   "outputs": [],
   "source": [
    "link_system_prompt = \"You are provided with a list of links found on a webpage. \\\n",
    "You are able to decide which of the links would be most relevant to include in a brochure about the company, \\\n",
    "such as links to an About page, or a Company page, or Careers/Jobs pages.\\n\"\n",
    "link_system_prompt += \"You should respond in JSON as in this example:\"\n",
    "link_system_prompt += \"\"\"\n",
    "{\n",
    "    \"links\": [\n",
    "        {\"type\": \"about page\", \"url\": \"https://full.url/goes/here/about\"},\n",
    "        {\"type\": \"careers page\": \"url\": \"https://another.full.url/careers\"}\n",
    "    ]\n",
    "}\n",
    "\"\"\""
   ]
  },
  {
   "cell_type": "code",
   "execution_count": 107,
   "id": "27afa984-c13e-418c-a217-61cabd6b4b3a",
   "metadata": {},
   "outputs": [],
   "source": [
    "def get_links_user_prompt(website):\n",
    "    \"\"\"\n",
    "    Constructs a user prompt to guide the model in identifying relevant links for the brochure.\n",
    "    :param website: The Website object containing all the links on the page.\n",
    "    :return: A string that prompts the model to choose relevant links.\n",
    "    \"\"\"\n",
    "    user_prompt = f\"Here is the list of links on the website - \"\n",
    "    user_prompt += \"please decide which of these are relevant web links for a brochure about the company, respond with the full https URL in JSON format. \\\n",
    "Do not include Terms of Service, Privacy, email links.\\n\"\n",
    "    user_prompt += \"Links (some might be relative links):\\n\"\n",
    "    user_prompt += \"\\n\".join(website.links)\n",
    "    return user_prompt"
   ]
  },
  {
   "cell_type": "code",
   "execution_count": 109,
   "id": "020ed9c4-b82b-4f68-804d-fddbb602aa39",
   "metadata": {},
   "outputs": [],
   "source": [
    "def good_links(url):\n",
    "    \"\"\"\n",
    "    Analyzes the webpage and extracts relevant links using the OpenAI API.\n",
    "    return: A dictionary containing the filtered relevant links.\n",
    "    \"\"\"\n",
    "    website = Website(url)\n",
    "    messages = [\n",
    "    {'role':'system', 'content':link_system_prompt},\n",
    "    {'role':'user', 'content': get_links_user_prompt(website)}]\n",
    "    response = openai.chat.completions.create(model = 'gpt-4o-mini', messages = messages, \n",
    "                                             response_format={\"type\": \"json_object\"})\n",
    "    result = response.choices[0].message.content\n",
    "    return json.loads(result)\n",
    "    "
   ]
  },
  {
   "cell_type": "code",
   "execution_count": 77,
   "id": "bbba7601-02e8-4b52-9fab-830d4fe431a0",
   "metadata": {},
   "outputs": [
    {
     "data": {
      "text/plain": [
       "{'links': [{'type': 'about page', 'url': 'https://www.anthropic.com/company'},\n",
       "  {'type': 'careers page', 'url': 'https://www.anthropic.com/careers'},\n",
       "  {'type': 'team page', 'url': 'https://www.anthropic.com/team'},\n",
       "  {'type': 'enterprise page', 'url': 'https://www.anthropic.com/enterprise'},\n",
       "  {'type': 'research page', 'url': 'https://www.anthropic.com/research'},\n",
       "  {'type': 'pricing page', 'url': 'https://www.anthropic.com/pricing'},\n",
       "  {'type': 'news page', 'url': 'https://www.anthropic.com/news'}]}"
      ]
     },
     "execution_count": 77,
     "metadata": {},
     "output_type": "execute_result"
    }
   ],
   "source": [
    "good_links('https://www.anthropic.com/')"
   ]
  },
  {
   "cell_type": "code",
   "execution_count": 110,
   "id": "45107689-7f98-4fae-ab36-0a48bf4eb0ce",
   "metadata": {},
   "outputs": [],
   "source": [
    "def get_full_details(url):\n",
    "    \"\"\"\n",
    "    Retrieves the full details of the company by combining the main page's contents and relevant links.\n",
    "    \"\"\"\n",
    "    result = \"Landing page:\\n\"\n",
    "    result += Website(url).get_contents()\n",
    "    links = good_links(url)\n",
    "    print(\"Found links:\", links)\n",
    "    for link in links[\"links\"]:\n",
    "        result += f\"\\n\\n{link['type']}\\n\"\n",
    "        result += Website(link[\"url\"]).get_contents()\n",
    "    return result\n",
    "    "
   ]
  },
  {
   "cell_type": "code",
   "execution_count": 79,
   "id": "1db43b55-5ba9-49f2-a8eb-2924ef8979b5",
   "metadata": {},
   "outputs": [],
   "source": [
    "system_prompt = \"You are an assistant that analyzes the contents of several relevant pages from a company website \\\n",
    "and creates a short brochure about the company for prospective customers, investors and recruits. Respond in markdown.\\\n",
    "Include details of company culture, customers and careers/jobs if you have the information.\"\n",
    "\n",
    "def get_brochure_user_prompt(company_name, url):\n",
    "    user_prompt = f\"You are looking at a company called: {company_name}\\n\"\n",
    "    user_prompt += f\"Here are the contents of its landing page and other relevant pages; use this information to build a short brochure of the company in markdown.\\n\"\n",
    "    user_prompt += get_full_details(url)\n",
    "    user_prompt = user_prompt[:5_000] # Truncate if more than 5,000 characters\n",
    "    return user_prompt"
   ]
  },
  {
   "cell_type": "code",
   "execution_count": 111,
   "id": "0b26de5e-49dd-4d4c-a679-6a6566fd96aa",
   "metadata": {},
   "outputs": [],
   "source": [
    "def create_brochure(company_name, url):\n",
    "    \"\"\"\n",
    "    Creates a brochure for the company using the OpenAI API and displays it in markdown format.\n",
    "    :param company_name: The name of the company.\n",
    "    :param url: The URL of the company's landing page.\n",
    "    \"\"\"\n",
    "    response = openai.chat.completions.create(\n",
    "        model='gpt-4o-mini',\n",
    "        messages=[\n",
    "            {\"role\": \"system\", \"content\": system_prompt},\n",
    "            {\"role\": \"user\", \"content\": get_brochure_user_prompt(company_name, url)}\n",
    "          ]\n",
    "    )\n",
    "    # Access the first choice's content directly\n",
    "    result = response.choices[0].message.content\n",
    "    display(Markdown(result))\n"
   ]
  },
  {
   "cell_type": "code",
   "execution_count": 103,
   "id": "6b9fd5bc-090f-4145-ac5f-db615d119f43",
   "metadata": {},
   "outputs": [
    {
     "name": "stdout",
     "output_type": "stream",
     "text": [
      "Found links: {'links': [{'type': 'about page', 'url': 'https://www.espncricinfo.com/records'}, {'type': 'careers page', 'url': 'https://www.espncricinfo.com/auction/ipl-2025-auction-1460972'}, {'type': 'company page', 'url': 'https://www.espncricinfo.com/cricket-videos/genre/cricinformed-299'}, {'type': 'company page', 'url': 'http://www.espn.in/'}, {'type': 'news page', 'url': 'https://www.espncricinfo.com/cricket-news'}, {'type': 'features page', 'url': 'https://www.espncricinfo.com/cricket-features'}, {'type': 'social media page', 'url': 'https://www.instagram.com/espncricinfo/'}, {'type': 'social media page', 'url': 'https://twitter.com/espncricinfo'}, {'type': 'social media page', 'url': 'https://www.facebook.com/Cricinfo/'}, {'type': 'social media page', 'url': 'https://www.youtube.com/espncricinfo'}]}\n"
     ]
    },
    {
     "data": {
      "text/markdown": [
       "# ESPN Company Brochure\n",
       "\n",
       "## About ESPN\n",
       "ESPN, a global leader in sports broadcasting and digital media, delivers unparalleled coverage of sporting events across various disciplines. From cricket to football, basketball to tennis, ESPN is dedicated to providing comprehensive insights, statistics, and real-time updates to millions of sports fans worldwide.\n",
       "\n",
       "---\n",
       "\n",
       "## Company Culture\n",
       "At ESPN, our culture is defined by a passion for sports and a commitment to excellence. We foster an inclusive environment that values diversity, creativity, and collaboration. Our teams work together across multiple platforms to innovate the way fans engage with sports, ensuring that we are at the forefront of sports media. We believe in empowering our employees to think outside the box, embrace challenges, and contribute to content that resonates with our audience.\n",
       "\n",
       "---\n",
       "\n",
       "## Our Customers\n",
       "Our diverse audience includes sports enthusiasts, dedicated fans, players, teams, and leagues globally. We cater to millions who seek live scores, match updates, in-depth analysis, and exclusive features that enhance their sporting experience. Whether it's providing comprehensive coverage of leagues like the BPL, ILT20, and Women's T20 leagues or in-depth features on tournaments such as the U-19 T20 World Cup, ESPN thrives on meeting the varied needs of its customers.\n",
       "\n",
       "---\n",
       "\n",
       "## Careers at ESPN\n",
       "ESPN actively seeks talent that shares our passion for sports and innovation. We offer a wide range of career opportunities across different sectors including journalism, technology, marketing, and production. Our commitment to employee growth and development is evident in our collaborative work environment and the various training programs we provide. \n",
       "\n",
       "If you're looking to join a dynamic team that inspires and entertains, explore the exciting career opportunities available at ESPN!\n",
       "\n",
       "---\n",
       "\n",
       "## Join Us\n",
       "Join ESPN in shaping the future of sports media. Whether as a viewer, an employee, or an investor, be a part of the journey as we continue to redefine what it means to be a sports fan in the digital age.\n",
       "\n",
       "---\n",
       "\n",
       "**Contact Us:**  \n",
       "For more information on our services, career opportunities, or partnership inquiries, please visit our website at [ESPN.com](https://www.espn.com).\n",
       "\n",
       "### Follow Us on Social Media\n",
       "Stay connected with ESPN for the latest updates and insights!  \n",
       "- Twitter: [@ESPN](https://twitter.com/espn)\n",
       "- Facebook: [ESPN](https://www.facebook.com/espn)\n",
       "- Instagram: [@espn](https://www.instagram.com/espn)\n",
       "\n",
       "---\n",
       "\n",
       "*Your passion for sports starts here. Dive into the world of ESPN today!*"
      ],
      "text/plain": [
       "<IPython.core.display.Markdown object>"
      ]
     },
     "metadata": {},
     "output_type": "display_data"
    }
   ],
   "source": [
    "create_brochure('ESPN', 'https://www.espncricinfo.com/')"
   ]
  },
  {
   "cell_type": "code",
   "execution_count": null,
   "id": "40c409a4-8de3-4d3b-8eb0-6bbaced5a4f6",
   "metadata": {},
   "outputs": [],
   "source": []
  }
 ],
 "metadata": {
  "kernelspec": {
   "display_name": "Python 3 (ipykernel)",
   "language": "python",
   "name": "python3"
  },
  "language_info": {
   "codemirror_mode": {
    "name": "ipython",
    "version": 3
   },
   "file_extension": ".py",
   "mimetype": "text/x-python",
   "name": "python",
   "nbconvert_exporter": "python",
   "pygments_lexer": "ipython3",
   "version": "3.11.11"
  }
 },
 "nbformat": 4,
 "nbformat_minor": 5
}
